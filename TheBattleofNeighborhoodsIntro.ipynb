{
 "cells": [
  {
   "cell_type": "markdown",
   "metadata": {},
   "source": [
    "## **Battle of Neighborhoods**"
   ]
  },
  {
   "cell_type": "markdown",
   "metadata": {},
   "source": [
    "## Bangalore, Karnataka"
   ]
  },
  {
   "cell_type": "markdown",
   "metadata": {},
   "source": [
    "#     Introduction"
   ]
  },
  {
   "cell_type": "markdown",
   "metadata": {},
   "source": [
    "### Business Problem & Discussion"
   ]
  },
  {
   "cell_type": "markdown",
   "metadata": {},
   "source": [
    "  \n",
    "  I'm going to focus on problems one might face while opening a new restaurant. Well there are many factors to be considered to open a small or big level business. First and foremost important point to decide is the location for her new restaurant. On what basis one can decide her restaurant's location? Does he want to rent place or can he afford to buy it? While selecting the place there are key points to consider like he needs to check out how many restaurants are there in that specific location? What all factors will help one to run her business above average?\n"
   ]
  },
  {
   "cell_type": "markdown",
   "metadata": {},
   "source": [
    "Let's discuss the above mentioned problem statements. Firstly one needs to choose a suitable location for his/her restaurant. To open a new Restaurant in Bangalore. Bangalore is a famous tourist place, So assuming that one want to rent a place for the new restaurant. And now he needs to figure out how many restaurants are there in say neighborhood A, B, C,etc. If there are more than two restaurants in a neighborhood then that would be a great risk to open new restaurant of same cuisine in that neighborhood. Selecting a place where there is less or no restaurant would be of great choice, considering the rent of neighborhood too. one needs to look for a place where many people frequently visit so that business is above average. Places like Downtown, Movie theatre, Malls & Gas stations would help her business running. Restaurants ratings, checkin of customers might help in deciding location crowd. I would also suggest that one should check for opening and closing timings of other restaurants.\n"
   ]
  },
  {
   "cell_type": "markdown",
   "metadata": {},
   "source": [
    "### **Data Sets and APIs:**\n",
    "\n",
    "• Foursquare API:<br>\n",
    "This API has a database of more than 105 million places. This project would use Four-square API as its prime data gathering source. Many organizations are using to geo-tag their photos with detailed info about a destination, while also serving up contextually relevant locations for those who are searching for a place to eat, drink or explore. This API provides the ability to perform location search, location sharing and details about a business. Foursquare users can also use photos, tips and reviews in many productive ways to add value to the results.\n",
    "\n",
    "• Work Flow:<br> \n",
    "HTTP requests would be made to this Foursquare API server using zip codes of the Bangalore city neighborhoods to pull the location information (Latitude and Longitude).Foursquare API search feature would be enabled to collect the nearby places of the neighborhoods. Due to http request limitations the number of places per neighborhood parameter would reasonably be set to 100 and the radius parameter would be set to 700.\n",
    "\n",
    "• Folium- Python visualization library would be used to visualize the neighborhoods cluster distribution of Bangalore city over an interactive leaflet map.Extensive comparative analysis of two randomly picked neighborhoods world be carried out to derive the desirable insights from the outcomes using python’s scientific libraries Pandas, NumPy and Scikit-learn.<br>\n",
    "\n",
    "• Unsupervised machine learning algorithm K-mean clustering would be applied to form the clusters of different categories of places residing in and around the neighborhoods. These clusters from each of those two chosen neighborhoods would be analyzed individually collectively and comparatively to derive the conclusions."
   ]
  },
  {
   "cell_type": "markdown",
   "metadata": {},
   "source": [
    "### **Python packages and Dependencies:**\n",
    "• Pandas - Library for Data Analysis <br>\n",
    "• NumPy – Library to handle data in a vectorized manner<br>\n",
    "• JSON – Library to handle JSON files <br>\n",
    "• Geopy – To retrieve Location Data <br>\n",
    "• Requests – Library to handle http requests<br>\n",
    " • Matplotlib – Python Plotting Module <br>\n",
    "• Sklearn – Python machine learning Library <br>\n",
    "• Folium – Map rendering Library<br>"
   ]
  }
 ],
 "metadata": {
  "kernelspec": {
   "display_name": "Python 3",
   "language": "python",
   "name": "python3"
  },
  "language_info": {
   "codemirror_mode": {
    "name": "ipython",
    "version": 3
   },
   "file_extension": ".py",
   "mimetype": "text/x-python",
   "name": "python",
   "nbconvert_exporter": "python",
   "pygments_lexer": "ipython3",
   "version": "3.6.6"
  }
 },
 "nbformat": 4,
 "nbformat_minor": 2
}
